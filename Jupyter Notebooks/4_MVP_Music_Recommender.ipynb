{
 "cells": [
  {
   "cell_type": "markdown",
   "metadata": {},
   "source": [
    "# MVP Music Recommender"
   ]
  },
  {
   "cell_type": "code",
   "execution_count": 1,
   "metadata": {},
   "outputs": [],
   "source": [
    "import pandas as pd\n",
    "import numpy as np\n",
    "import sys\n",
    "import json\n",
    "import requests\n",
    "import random\n"
   ]
  },
  {
   "cell_type": "code",
   "execution_count": 2,
   "metadata": {},
   "outputs": [],
   "source": [
    "web_df_songs = pd.read_csv('c:/Users/kyear/Documents/Personal/Education/Ironhack/34_UNsupLearning/topsongs_features_db.csv')"
   ]
  },
  {
   "cell_type": "code",
   "execution_count": 3,
   "metadata": {},
   "outputs": [],
   "source": [
    "complete_df= pd.read_csv('c:/Users/kyear/Documents/Personal/Education/Ironhack/34_UNsupLearning/kaggle_music_features_db.csv')"
   ]
  },
  {
   "cell_type": "markdown",
   "metadata": {},
   "source": [
    "-----\n",
    "-----\n",
    "\n",
    "## MVP\n",
    "- Check whether or not the song has been in the Charts.\n",
    "- And song reccomendations regarding you music tastes\n",
    "    - If your song has been in the charts you will be suggested another song from the charts\n",
    "    - If your song has not been in the charts you will be reccomended a song that similar to your taste in music.\n",
    "\n",
    "----\n",
    "#### Functions:"
   ]
  },
  {
   "cell_type": "code",
   "execution_count": 4,
   "metadata": {},
   "outputs": [],
   "source": [
    "#Music checker function\n",
    "\n",
    "def recommendator(track):\n",
    "  \n",
    "\n",
    " #Music from chart's dataset\n",
    "    if track in web_df_songs['song'].values:\n",
    "        # checking that it works\n",
    "        print(f\"The song: {track}, is HOT!\")\n",
    "              \n",
    "        # getting the index of the song\n",
    "        index = np.where(web_df_songs['song'].values == track)\n",
    "        index = int(index[0])\n",
    "        print(\"Year that it was in the Charts : \", web_df_songs['chart_year'][index])\n",
    "        print(\"Artist : \", web_df_songs['artist'][index])\n",
    "        sp_id = web_df_songs['id'][index]\n",
    "        # getting the spotify id of the song\n",
    "        print(\"Spotify id: \", sp_id)\n",
    "        print(\"Spotify link: https://open.spotify.com/track/\"+str(sp_id))\n",
    "        print(\"DB index: \", index)\n",
    "        \n",
    "        #RECOMMENDOR\n",
    "        randomsong = random.choice(web_df_songs['id'])\n",
    "        print(\"==========================================================\")\n",
    "        print(\"Due to your music taste, you could also like the following as it was also in the charts Spotify link: https://open.spotify.com/track/\"+str(randomsong))\n",
    "        print(\"==========================================================\")        \n",
    "\n",
    "        \n",
    " #Music from kaggle dataset:  \n",
    "    elif track in complete_df['song'].values:\n",
    "        # checking that it works\n",
    "        print(f\"Cold, the song: {track}, ISN'T in the charts!\")\n",
    "        \n",
    "        # getting index & details of the song chosen\n",
    "        index = np.where(complete_df['song'].values == track)\n",
    "        index = int(index[0][0])\n",
    "\n",
    "        print(\"Artist : \", complete_df['artist'][index])\n",
    "        sp_id = complete_df['id'][index]\n",
    "        \n",
    "        # getting the spotify id of the song\n",
    "        print(\"Spotify link: https://open.spotify.com/track/\"+str(sp_id))\n",
    "        \n",
    "                \n",
    "        #getting cluster\n",
    "        sp_cluster = complete_df['cluster'][index]\n",
    "        print(\"DB index: \", index)\n",
    "        songs_cluster = complete_df.loc[(complete_df.cluster == sp_cluster)]\n",
    "        \n",
    "        #RECOMMENDOR\n",
    "        #random selection & details\n",
    "        random_selection = np.random.choice(songs_cluster['id'])\n",
    "        print(\"==========================================================\")\n",
    "        print(\"Due to your music taste, you could also like > Spotify link: https://open.spotify.com/track/\"+str(random_selection))\n",
    "        print(\"==========================================================\")\n",
    "\n",
    "#Song doesnt exist        \n",
    "    else:  print(f\"The song: {track} doesn't exist, try again!\")\n"
   ]
  },
  {
   "cell_type": "code",
   "execution_count": 5,
   "metadata": {},
   "outputs": [],
   "source": [
    "#search song names with artist name\n",
    "\n",
    "def artlist_list(artist_search):\n",
    "    if artist_search in complete_df['artist'].values:\n",
    "        artist_search_df = complete_df.loc[(complete_df.artist == artist_search)]\n",
    "        print(artist_search_df['song'])\n",
    "        \n",
    "    else: print(f\"The song: {artist_search} doesn't exist, try again!\")"
   ]
  },
  {
   "cell_type": "markdown",
   "metadata": {},
   "source": [
    "-----"
   ]
  },
  {
   "cell_type": "markdown",
   "metadata": {},
   "source": [
    "# MVP Music reccomendation: \n",
    "#### Enter your song below to find out a reccomended song that is a like, please be aware that the MVP is case sensetive: "
   ]
  },
  {
   "cell_type": "code",
   "execution_count": 6,
   "metadata": {},
   "outputs": [],
   "source": [
    "#### If you are not sure of the song name.\n",
    "##Use the following Artist searcher to find out the song name: "
   ]
  },
  {
   "cell_type": "code",
   "execution_count": 7,
   "metadata": {},
   "outputs": [
    {
     "name": "stdout",
     "output_type": "stream",
     "text": [
      "Input an artist: Michael Jackson\n",
      "10362                                   Rockin' Robin\n",
      "10383                            Ben - Single Version\n",
      "11667                  Rock with You - Single Version\n",
      "11670                  Don't Stop 'Til You Get Enough\n",
      "11719                                    Off the Wall\n",
      "                             ...                     \n",
      "158071                                       Thriller\n",
      "164559    You Can Cry On My Shoulder - Single Version\n",
      "169562                                    Is It Scary\n",
      "170235                                Heaven Can Wait\n",
      "170245                                  Break of Dawn\n",
      "Name: song, Length: 153, dtype: object\n"
     ]
    }
   ],
   "source": [
    "user_artist = input('Input an artist: ')\n",
    "artlist_list (user_artist)"
   ]
  },
  {
   "cell_type": "code",
   "execution_count": 8,
   "metadata": {},
   "outputs": [],
   "source": [
    "#### MVP Song Reccomendation: "
   ]
  },
  {
   "cell_type": "code",
   "execution_count": 9,
   "metadata": {},
   "outputs": [
    {
     "name": "stdout",
     "output_type": "stream",
     "text": [
      "Input a chosen song: Thriller\n",
      "Cold, the song: Thriller, ISN'T in the charts!\n",
      "Artist :  Michael Jackson\n",
      "Spotify link: https://open.spotify.com/track/3S2R0EVwBSAVMd5UMgKTL0\n",
      "DB index:  12306\n",
      "==========================================================\n",
      "Due to your music taste, you could also like > Spotify link: https://open.spotify.com/track/74UvZTPWPVAdaBvp6axd5G\n",
      "==========================================================\n"
     ]
    }
   ],
   "source": [
    "user_song = input('Input a chosen song: ')\n",
    "\n",
    "recommendator(user_song)\n"
   ]
  },
  {
   "cell_type": "code",
   "execution_count": null,
   "metadata": {},
   "outputs": [],
   "source": []
  }
 ],
 "metadata": {
  "kernelspec": {
   "display_name": "Python 3",
   "language": "python",
   "name": "python3"
  },
  "language_info": {
   "codemirror_mode": {
    "name": "ipython",
    "version": 3
   },
   "file_extension": ".py",
   "mimetype": "text/x-python",
   "name": "python",
   "nbconvert_exporter": "python",
   "pygments_lexer": "ipython3",
   "version": "3.8.5"
  },
  "toc": {
   "base_numbering": 1,
   "nav_menu": {},
   "number_sections": true,
   "sideBar": true,
   "skip_h1_title": false,
   "title_cell": "Table of Contents",
   "title_sidebar": "Contents",
   "toc_cell": false,
   "toc_position": {},
   "toc_section_display": true,
   "toc_window_display": false
  }
 },
 "nbformat": 4,
 "nbformat_minor": 4
}
